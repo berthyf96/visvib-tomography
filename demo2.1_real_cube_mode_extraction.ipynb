{
 "cells": [
  {
   "cell_type": "markdown",
   "id": "98bdb1c4",
   "metadata": {},
   "source": [
    "# Real Cube: Motion Extraction & Mode Identification\n",
    "This notebook shows how to extract image-space modal observations from a video of a cube. For a damped cube, we typically need to extract modes from multiple videos, so this notebook must be run for every video that will be used for material-property estimation. In this demo, we'll work with the real Jello cube. **Note:** the outputs of this notebook for all the videos of the real Jello cube are already provided in the Box folder. If you just want to reconstruct the material properties, you can skip to `demo2.2_realcube_inference.ipynb`.\n",
    "\n",
    "For each video, this notebook writes a `modal_observations.pkl` file, which contains the observed (unsampled) image-space modes and their frequencies. It also asks you to click on the locations of reference mesh points and saves them in a `clicks.npy` file. These reference points will be used to sample the image-space modes at visible mesh vertices in the `demo2.2_real_cube_inference.ipynb` notebook.\n",
    "\n",
    "In order to recreate Figs. 10 and 11 in the paper, you will need to run this notebook entirely for each of the three videos provided for the Jello cube."
   ]
  },
  {
   "cell_type": "markdown",
   "id": "123e5c2f",
   "metadata": {},
   "source": [
    "## 0. Download Data\n",
    "The Jello-cube videos can be downloaded from here: https://caltech.box.com/s/sect508u93m7ik43bzk95fr8rl42rr14.\n",
    "Please place the folder in `real_data` so that the file structure looks like:\n",
    "```\n",
    "real_data/jello_cube/\n",
    "    top_front_pluck/\n",
    "        top_front_pluck-4000fps.avi\n",
    "    top_right_pluck/\n",
    "        top_right_pluck-4000fps.avi\n",
    "    left_side_twist/\n",
    "        left_side_twist-4000fps.avi\n",
    "```"
   ]
  },
  {
   "cell_type": "code",
   "execution_count": null,
   "id": "530c8022",
   "metadata": {},
   "outputs": [],
   "source": [
    "import pickle\n",
    "\n",
    "import numpy as np\n",
    "import matplotlib.pyplot as plt\n",
    "\n",
    "import vvt\n",
    "\n",
    "videos = ['top_front_pluck', 'top_right_pluck', 'left_side_twist']\n",
    "fps = 4000\n",
    "\n",
    "# UNCOMMENT the following lines if working with a damped simulated cube (e.g., damped_defect03):\n",
    "# videos = ['top_front_pluck', 'top_back_pluck', 'top_right_pluck', 'top_left_pluck', 'top_right_twist']\n",
    "# fps = 2000"
   ]
  },
  {
   "cell_type": "code",
   "execution_count": null,
   "id": "b5347e3b",
   "metadata": {},
   "outputs": [],
   "source": [
    "\"\"\"\n",
    "Set the options of this run.\n",
    "\"\"\"\n",
    "# Set the video name to determine which video to work with in this run.\n",
    "video = 'top_right_pluck'\n",
    "assert video in videos\n",
    "\n",
    "N_THREADS = 8  # num. threads to use in multithreaded functions"
   ]
  },
  {
   "cell_type": "markdown",
   "id": "cd384f2c",
   "metadata": {},
   "source": [
    "## 1. Motion Extraction"
   ]
  },
  {
   "cell_type": "code",
   "execution_count": null,
   "id": "56ea23cf",
   "metadata": {},
   "outputs": [],
   "source": [
    "\"\"\"\n",
    "Read the frames and show the first frame of the video.\n",
    "\"\"\"\n",
    "avi_fn = 'real_data/jello_cube/%s/%s-%dfps.avi' % (video, video, fps)\n",
    "print('Reading AVI:', avi_fn)\n",
    "\n",
    "frames = vvt.motion.read_frames(avi_fn)\n",
    "plt.imshow(frames[0], cmap='gray')\n",
    "plt.axis('off')\n",
    "plt.show()"
   ]
  },
  {
   "cell_type": "code",
   "execution_count": null,
   "id": "7117f461",
   "metadata": {},
   "outputs": [],
   "source": [
    "\"\"\"\n",
    "Run motion extraction and then apply amplitude-weighted Gaussian smoothing to the \n",
    "displacement fields.\n",
    "\"\"\"\n",
    "# Some videos have large motion at the beginning, so we have to start from a later frame.\n",
    "start_frames = {\n",
    "    'top_front_pluck': 1000,\n",
    "    'top_right_pluck': 1000,\n",
    "    'left_side_twist': 0\n",
    "}\n",
    "t_start, t_end = start_frames[video], len(frames)\n",
    "ref_frame = frames[t_start]\n",
    "motion_fields = vvt.motion.extract_motion(\n",
    "    frames[t_start:t_end], ref_frame, filter_pct=98, n_threads=N_THREADS)\n",
    "motion_fields = vvt.motion.weighted_gaussian_smooth(\n",
    "    motion_fields, ref_frame, sigma=4, n_threads=N_THREADS)"
   ]
  },
  {
   "cell_type": "code",
   "execution_count": null,
   "id": "b0dd9ce4",
   "metadata": {},
   "outputs": [],
   "source": [
    "\"\"\"\n",
    "View the displacement field at one frame.\n",
    "\"\"\"\n",
    "t = 1200\n",
    "plt.subplot(121)\n",
    "vvt.vis.plot_motion_field(motion_fields[0][t])\n",
    "plt.subplot(122)\n",
    "vvt.vis.plot_motion_field(motion_fields[1][t])"
   ]
  },
  {
   "cell_type": "markdown",
   "id": "4b7af8e7",
   "metadata": {},
   "source": [
    "## 2. Mode Identification"
   ]
  },
  {
   "cell_type": "code",
   "execution_count": null,
   "id": "f8e7a93c",
   "metadata": {},
   "outputs": [],
   "source": [
    "\"\"\"\n",
    "Run 1D FFT on displacement fields.\n",
    "`fft_dx[i]` contains the FFT coefficients of horizontal motion at FFT bin i.\n",
    "`fft_dy[i]` contains the FFT coefficients of vertical motion at FFT bin i.\n",
    "`spectrum` is the power spectrum of horizontal + vertical motion amplitude.\n",
    "`ffreqs[i]` is the frequency [Hz] of FFT bin i.\n",
    "\"\"\"\n",
    "max_fft_freq = 50  # max. frequency (in Hz) to consider\n",
    "fft_dx, fft_dy, spectrum, ffreqs = vvt.modes.get_fft_results(\n",
    "    motion_fields, fps, max_fft_freq, n_threads=N_THREADS)\n",
    "log_spectrum = np.log(spectrum)"
   ]
  },
  {
   "cell_type": "code",
   "execution_count": null,
   "id": "8d714e05",
   "metadata": {},
   "outputs": [],
   "source": [
    "\"\"\"\n",
    "Find peaks in the log-power spectrum of motion amplitude.\n",
    "`best_peak_idxs_per_video` contains the best peaks that were\n",
    "selected qualitatively.\n",
    "\"\"\"\n",
    "best_peak_idxs_per_video = {\n",
    "    'top_front_pluck': [21, 25, 59],  # FFT bin indices\n",
    "    'top_right_pluck': [25, 32, 60, 99],\n",
    "    'left_side_twist': [25, 31, 65],\n",
    "}\n",
    "max_fft_idx = vvt.utils.find_nearest(ffreqs, max_fft_freq)\n",
    "peak_idxs = vvt.modes.find_peak_idxs(log_spectrum[:max_fft_idx], prominence=0.01)\n",
    "best_peak_idxs = best_peak_idxs_per_video[video]\n",
    "\n",
    "plt.plot(ffreqs[1:max_fft_idx], log_spectrum[1:max_fft_idx], linewidth=0.5)\n",
    "plt.scatter(\n",
    "    ffreqs[peak_idxs], log_spectrum[peak_idxs], color='orange',\n",
    "    label='Peaks')\n",
    "plt.scatter(\n",
    "    ffreqs[best_peak_idxs], log_spectrum[best_peak_idxs], color='green',\n",
    "    label='Best Peaks')\n",
    "plt.legend()\n",
    "plt.xlabel('Frequency [Hz]')\n",
    "plt.ylabel('Log Power')\n",
    "plt.title(video)\n",
    "plt.show()"
   ]
  },
  {
   "cell_type": "code",
   "execution_count": null,
   "id": "aa4e0ad5",
   "metadata": {},
   "outputs": [],
   "source": [
    "\"\"\"\n",
    "View a specified image-space mode.\n",
    "\"\"\"\n",
    "fft_idx = best_peak_idxs[1]\n",
    "\n",
    "mode_shape_dx = fft_dx[fft_idx].real\n",
    "mode_shape_dy = fft_dy[fft_idx].real\n",
    "mode_freq = ffreqs[fft_idx]\n",
    "\n",
    "fig = plt.figure(figsize=(15, 5))\n",
    "fig.suptitle('Image-Space Mode @ %.2f Hz' % mode_freq, fontsize=25)\n",
    "\n",
    "plt.subplot(131)\n",
    "plt.plot(ffreqs[1:max_fft_idx], log_spectrum[1:max_fft_idx], linewidth=0.5)\n",
    "plt.scatter(ffreqs[fft_idx], log_spectrum[fft_idx], c='orange', s=10)\n",
    "plt.xlabel('Frequency [Hz]')\n",
    "plt.ylabel('Log Power')\n",
    "\n",
    "plt.subplot(132)\n",
    "vvt.vis.plot_motion_field(mode_shape_dx, cbar=False)\n",
    "plt.title('$\\Delta x$')\n",
    "plt.axis('off')\n",
    "\n",
    "plt.subplot(133)\n",
    "vvt.vis.plot_motion_field(mode_shape_dy, cbar=False)\n",
    "plt.title('$\\Delta y$')\n",
    "plt.axis('off')\n",
    "plt.show()"
   ]
  },
  {
   "cell_type": "code",
   "execution_count": null,
   "id": "78df3f01",
   "metadata": {},
   "outputs": [],
   "source": [
    "\"\"\"\n",
    "Take the image-space modes at the best peaks, and save them as\n",
    "modal observation data.\n",
    "\"\"\"\n",
    "image_space_modes_dx, image_space_modes_dy = vvt.modes.gather_image_space_modes(\n",
    "    fft_dx, fft_dy, best_peak_idxs)\n",
    "image_space_modes_freqs = ffreqs[best_peak_idxs]\n",
    "\n",
    "data_dict = {\n",
    "    'modes_dx': image_space_modes_dx,\n",
    "    'modes_dy': image_space_modes_dy,\n",
    "    'freqs': image_space_modes_freqs\n",
    "}\n",
    "\n",
    "modal_data_file = 'real_data/jello_cube/%s/modal_observations.pkl' % video\n",
    "with open(modal_data_file, 'wb') as fp:\n",
    "    pickle.dump(data_dict, fp)\n",
    "print('Wrote:', modal_data_file)"
   ]
  },
  {
   "cell_type": "code",
   "execution_count": null,
   "id": "58a78152",
   "metadata": {},
   "outputs": [],
   "source": [
    "with open('real_data/jello_cube/%s/info_dict_10x10x10_deg1.pkl' % video, 'rb') as fp:\n",
    "    ref = pickle.load(fp)"
   ]
  },
  {
   "cell_type": "markdown",
   "id": "52a10d5f",
   "metadata": {},
   "source": [
    "## 3. Reference Keypoints\n",
    "We will need the pixel locations of reference mesh points (i.e., the 7 visible corners).\n",
    "Click the following points in the exact order:\n",
    "1. bottom left\n",
    "2. bottom middle\n",
    "3. bottom right\n",
    "4. top left back\n",
    "5. top left front\n",
    "6. top right back\n",
    "7. top right front"
   ]
  },
  {
   "cell_type": "code",
   "execution_count": null,
   "id": "15cd3587",
   "metadata": {},
   "outputs": [],
   "source": [
    "\"\"\"\n",
    "Click on the locations of the 7 reference points.\n",
    "\"\"\"\n",
    "%matplotlib notebook\n",
    "clicks = []\n",
    "vvt.utils.prompt_clicks(ref_frame, clicks, cmap='gray')"
   ]
  },
  {
   "cell_type": "code",
   "execution_count": null,
   "id": "927571b6",
   "metadata": {},
   "outputs": [],
   "source": [
    "\"\"\"\n",
    "Save the clicked locations and view them on a video frame.\n",
    "\"\"\"\n",
    "np.save('real_data/jello_cube/%s/clicks.npy' % video, clicks)\n",
    "keypoints = vvt.utils.keypoints_from_clicks(clicks, 10, 10, 10)\n",
    "\n",
    "plt.close('all')\n",
    "%matplotlib inline\n",
    "plt.imshow(ref_frame, cmap='gray')\n",
    "plt.scatter(keypoints[:, 0], keypoints[:, 1])\n",
    "plt.axis('off')\n",
    "plt.title('Visible Mesh Vertices')\n",
    "plt.show()"
   ]
  },
  {
   "cell_type": "code",
   "execution_count": null,
   "id": "5625476d",
   "metadata": {},
   "outputs": [],
   "source": []
  }
 ],
 "metadata": {
  "kernelspec": {
   "display_name": "Python 3 (ipykernel)",
   "language": "python",
   "name": "python3"
  },
  "language_info": {
   "codemirror_mode": {
    "name": "ipython",
    "version": 3
   },
   "file_extension": ".py",
   "mimetype": "text/x-python",
   "name": "python",
   "nbconvert_exporter": "python",
   "pygments_lexer": "ipython3",
   "version": "3.7.12"
  }
 },
 "nbformat": 4,
 "nbformat_minor": 5
}
